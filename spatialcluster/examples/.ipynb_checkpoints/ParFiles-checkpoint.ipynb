{
 "cells": [
  {
   "cell_type": "code",
   "execution_count": 1,
   "metadata": {},
   "outputs": [
    {
     "name": "stderr",
     "output_type": "stream",
     "text": [
      "c:\\anaconda3\\lib\\site-packages\\h5py\\__init__.py:36: FutureWarning: Conversion of the second argument of issubdtype from `float` to `np.floating` is deprecated. In future, it will be treated as `np.float64 == np.dtype(float).type`.\n",
      "  from ._conv import register_converters as _register_converters\n"
     ]
    },
    {
     "name": "stdout",
     "output_type": "stream",
     "text": [
      "The imports are copied to the clipboard\n"
     ]
    }
   ],
   "source": [
    "import pygeostat as gs\n",
    "import rmutils as rm"
   ]
  },
  {
   "cell_type": "code",
   "execution_count": 2,
   "metadata": {},
   "outputs": [
    {
     "name": "stdout",
     "output_type": "stream",
     "text": [
      "C:\\GIT\\python-local\\spatialcluster\\spatialcluster\\examples\\tmpg_oykhyr\\accluster.par has been copied to the clipboard\n"
     ]
    }
   ],
   "source": [
    "gs.Program(\"acclus\", getpar=True)\n",
    "accluspar = \"\"\"\t\t  ACCluster\n",
    "\t\t  ----------\n",
    "\n",
    "START OF DATA:\n",
    "datafile.dat        - file with the input dataset\n",
    "1  2  0             - columns for dh, x, y, z data\n",
    "3  4  5  6          - columns for variables (implicit nvar)\n",
    "outfile.out         - file for clustering output\n",
    "1                   - append output to input file? (0=No, 1=Yes)\n",
    "\n",
    "START OF AC:        # autocorrelation settings\n",
    "25                  - number of nearest neighbors\n",
    "0  0  0             - search anisotropy/ ang1, ang2, ang3\n",
    "500 500 500         - range1, range2, range3\n",
    "kmeans              - cluster method: one of `kmeans`, `gmm`, `hier`\n",
    "1                   - autocorrelation metrics (0=None, 1=Morans, 2=Getis)\n",
    "5                   - number of clusters\n",
    "\n",
    "\"\"\""
   ]
  },
  {
   "cell_type": "code",
   "execution_count": 3,
   "metadata": {},
   "outputs": [
    {
     "name": "stdout",
     "output_type": "stream",
     "text": [
      "\\begin{framed}\n",
      "\t\\begin{lstlisting}[style=ccgParameterFile]\n",
      "\t\t\t  ACCluster\n",
      "\t\t\t  ----------\n",
      "\t\n",
      "\tSTART OF DATA:\n",
      "\tdatafile.dat        - file with the input dataset\n",
      "\t1  2  0             - columns for dh, x, y, z data\n",
      "\t3  4  5  6          - columns for variables (implicit nvar)\n",
      "\toutfile.out         - file for clustering output\n",
      "\t1                   - append output to input file? (0=No, 1=Yes)\n",
      "\t\n",
      "\tSTART OF AC:        # autocorrelation settings\n",
      "\t25                  - number of nearest neighbors\n",
      "\t0  0  0             - search anisotropy/ ang1, ang2, ang3\n",
      "\t500 500 500         - range1, range2, range3\n",
      "\tkmeans              - cluster method: one of `kmeans`, `gmm`, `hi..\n",
      "\t1                   - autocorrelation metrics (0=None, 1=Morans, ..\n",
      "\t5                   - number of clusters\n",
      "\t\n",
      "\t\\end{lstlisting}\n",
      "\\end{framed}\n"
     ]
    }
   ],
   "source": [
    "print(rm.trimparfile(accluspar))"
   ]
  },
  {
   "cell_type": "code",
   "execution_count": 4,
   "metadata": {},
   "outputs": [
    {
     "name": "stdout",
     "output_type": "stream",
     "text": [
      "C:\\GIT\\python-local\\spatialcluster\\spatialcluster\\examples\\tmpejofkali\\acensemble.par has been copied to the clipboard\n"
     ]
    }
   ],
   "source": [
    "gs.Program(\"acens\", getpar=True)\n",
    "acenspar = \"\"\"\t\t  ACEnsemble\n",
    "\t\t  ----------\n",
    "\n",
    "START OF DATA:\n",
    "datafile.dat        - file with the input dataset\n",
    "0  1  2  0          - columns for dh, x, y, z data\n",
    "3  4  5  6          - columns for variables (implicit nvar)\n",
    "outfile.out         - file for clustering output\n",
    "1    1              - save all reals? recode clusters? (0=No, 1=Yes)\n",
    "1                   - append output to input file? (0=No, 1=Yes)\n",
    "\n",
    "START OF AC:        # autocorrelation settings\n",
    "25                  - number of nearest neighbors\n",
    "0  0  0             - search anisotropy/ ang1, ang2, ang3\n",
    "500 500 500         - range1, range2, range3\n",
    "kmeans              - cluster method: one of `kmeans`, `gmm`, `hier`\n",
    "1  2                - autocorrelation metrics (0=None, 1=Morans, 2=Getis)\n",
    "0.5 0.5             - autocorrelation props\n",
    "\n",
    "START OF ENS:       # ensemble settings\n",
    "523151              - random seed\n",
    "100                 - num ensemble\n",
    "-1                  - min number of variables, -1 to use all\n",
    "4  6                - final nclus, target nclus\n",
    "0.0 0.15            - min and max proportion to remove\n",
    "0.001 0.999         - min and max proportion in found clustering\n",
    "spec                - final consensus method, `spec`(tral) or `hier`(archical)\n",
    "\n",
    "\"\"\""
   ]
  },
  {
   "cell_type": "code",
   "execution_count": 5,
   "metadata": {},
   "outputs": [
    {
     "name": "stdout",
     "output_type": "stream",
     "text": [
      "\\begin{framed}\n",
      "\t\\begin{lstlisting}[style=ccgParameterFile]\n",
      "\t\t\t  ACEnsemble\n",
      "\t\t\t  ----------\n",
      "\t\n",
      "\tSTART OF DATA:\n",
      "\tdatafile.dat        - file with the input dataset\n",
      "\t0  1  2  0          - columns for dh, x, y, z data\n",
      "\t3  4  5  6          - columns for variables (implicit nvar)\n",
      "\toutfile.out         - file for clustering output\n",
      "\t1    1              - save all reals? recode clusters? (0=No, 1=Y..\n",
      "\t1                   - append output to input file? (0=No, 1=Yes)\n",
      "\t\n",
      "\tSTART OF AC:        # autocorrelation settings\n",
      "\t25                  - number of nearest neighbors\n",
      "\t0  0  0             - search anisotropy/ ang1, ang2, ang3\n",
      "\t500 500 500         - range1, range2, range3\n",
      "\tkmeans              - cluster method: one of `kmeans`, `gmm`, `hi..\n",
      "\t1  2                - autocorrelation metrics (0=None, 1=Morans, ..\n",
      "\t0.5 0.5             - autocorrelation props\n",
      "\t\n",
      "\tSTART OF ENS:       # ensemble settings\n",
      "\t523151              - random seed\n",
      "\t100                 - num ensemble\n",
      "\t-1                  - min number of variables, -1 to use all\n",
      "\t4  6                - final nclus, target nclus\n",
      "\t0.0 0.15            - min and max proportion to remove\n",
      "\t0.001 0.999         - min and max proportion in found clustering\n",
      "\tspec                - final consensus method, `spec`(tral) or `hi..\n",
      "\t\n",
      "\t\\end{lstlisting}\n",
      "\\end{framed}\n"
     ]
    }
   ],
   "source": [
    "print(rm.trimparfile(acenspar))"
   ]
  },
  {
   "cell_type": "code",
   "execution_count": 6,
   "metadata": {},
   "outputs": [
    {
     "name": "stdout",
     "output_type": "stream",
     "text": [
      "C:\\GIT\\python-local\\spatialcluster\\spatialcluster\\examples\\tmpqwd4w21z\\dssensemble.par has been copied to the clipboard\n"
     ]
    }
   ],
   "source": [
    "gs.Program(\"dssens\", getpar=True)\n",
    "dssenspar = \"\"\"\t\t  DSSEnsemble\n",
    "\t\t  -----------\n",
    "\n",
    "START OF DATA:\n",
    "datafile.dat        - file with the input dataset\n",
    "1  2  0             - columns for x, y, z data\n",
    "3  4  5  6          - columns for variables (implicit nvar)\n",
    "outfile.out         - file for clustering output\n",
    "1    1              - save all reals? recode clusters? (0=No, 1=Yes)\n",
    "1                   - append output to input file? (0=No, 1=Yes)\n",
    "1                   - number of parallel processes\n",
    "\n",
    "START OF DSS:       # dual-space-search settings\n",
    "25                  - number of nearest neighbors\n",
    "10                  - number of neighbors taken at spatial search\n",
    "0  0  0             - search anisotropy/ ang1, ang2, ang3\n",
    "500 500 500         - range1, range2, range3\n",
    "\n",
    "START OF ENS:       # ensemble settings\n",
    "512671              - random seed\n",
    "100                 - number of clusterings to generate\n",
    "4  6                - final nclus, target nclus\n",
    "0.001 0.999         - min and max proportion in found clustering\n",
    "spec                - final consensus method, `spec(tral)` or `hier(archical)`\n",
    "\n",
    "\"\"\""
   ]
  },
  {
   "cell_type": "code",
   "execution_count": 7,
   "metadata": {},
   "outputs": [
    {
     "name": "stdout",
     "output_type": "stream",
     "text": [
      "\\begin{framed}\n",
      "\t\\begin{lstlisting}[style=ccgParameterFile]\n",
      "\t\t\t  DSSEnsemble\n",
      "\t\t\t  -----------\n",
      "\t\n",
      "\tSTART OF DATA:\n",
      "\tdatafile.dat        - file with the input dataset\n",
      "\t1  2  0             - columns for x, y, z data\n",
      "\t3  4  5  6          - columns for variables (implicit nvar)\n",
      "\toutfile.out         - file for clustering output\n",
      "\t1    1              - save all reals? recode clusters? (0=No, 1=Y..\n",
      "\t1                   - append output to input file? (0=No, 1=Yes)\n",
      "\t1                   - number of parallel processes\n",
      "\t\n",
      "\tSTART OF DSS:       # dual-space-search settings\n",
      "\t25                  - number of nearest neighbors\n",
      "\t10                  - number of neighbors taken at spatial search\n",
      "\t0  0  0             - search anisotropy/ ang1, ang2, ang3\n",
      "\t500 500 500         - range1, range2, range3\n",
      "\t\n",
      "\tSTART OF ENS:       # ensemble settings\n",
      "\t512671              - random seed\n",
      "\t100                 - number of clusterings to generate\n",
      "\t4  6                - final nclus, target nclus\n",
      "\t0.001 0.999         - min and max proportion in found clustering\n",
      "\tspec                - final consensus method, `spec(tral)` or `hi..\n",
      "\t\n",
      "\t\\end{lstlisting}\n",
      "\\end{framed}\n"
     ]
    }
   ],
   "source": [
    "print(rm.trimparfile(dssenspar))"
   ]
  },
  {
   "cell_type": "raw",
   "metadata": {},
   "source": [
    "\t\t  ACCluster\n",
    "\t\t  ----------\n",
    "\n",
    "START OF DATA:\n",
    "datafile.dat        - file with the input dataset\n",
    "1  2  0             - columns for dh, x, y, z data\n",
    "3  4  5  6          - columns for variables (implicit nvar)\n",
    "outfile.out         - file for clustering output\n",
    "1                   - append output to input file? (0=No, 1=Yes)\n",
    "\n",
    "START OF AC:        # autocorrelation settings\n",
    "25                  - number of nearest neighbors\n",
    "0  0  0             - search anisotropy/ ang1, ang2, ang3\n",
    "500 500 500         - range1, range2, range3\n",
    "kmeans              - cluster method: one of `kmeans`, `gmm`, `hier`\n",
    "1                   - autocorrelation metrics (0=None, 1=Morans, 2=Getis)\n",
    "5                   - number of clusters\n"
   ]
  },
  {
   "cell_type": "raw",
   "metadata": {},
   "source": [
    "\t\t  ACEnsemble\n",
    "\t\t  ----------\n",
    "\n",
    "START OF DATA:\n",
    "datafile.dat        - file with the input dataset\n",
    "0  1  2  0          - columns for dh, x, y, z data\n",
    "3  4  5  6          - columns for variables (implicit nvar)\n",
    "outfile.out         - file for clustering output\n",
    "1    1              - save all reals? recode clusters? (0=No, 1=Yes)\n",
    "1                   - append output to input file? (0=No, 1=Yes)\n",
    "\n",
    "START OF AC:        # autocorrelation settings\n",
    "25                  - number of nearest neighbors\n",
    "0  0  0             - search anisotropy/ ang1, ang2, ang3\n",
    "500 500 500         - range1, range2, range3\n",
    "kmeans              - cluster method: one of `kmeans`, `gmm`, `hier`\n",
    "1  2                - autocorrelation metrics (0=None, 1=Morans, 2=Getis)\n",
    "0.5 0.5             - autocorrelation props\n",
    "\n",
    "START OF ENS:       # ensemble settings\n",
    "523151              - random seed\n",
    "100                 - num ensemble\n",
    "-1                  - min number of variables, -1 to use all\n",
    "4  6                - final nclus, target nclus\n",
    "0.0 0.15            - min and max proportion to remove\n",
    "0.001 0.999         - min and max proportion in found clustering\n",
    "spec                - final consensus method, `spec`(tral) or `hier`(archical)\n"
   ]
  },
  {
   "cell_type": "raw",
   "metadata": {},
   "source": [
    "\t\t  DSSEnsemble\n",
    "\t\t  -----------\n",
    "\n",
    "START OF DATA:\n",
    "datafile.dat        - file with the input dataset\n",
    "1  2  0             - columns for x, y, z data\n",
    "3  4  5  6          - columns for variables (implicit nvar)\n",
    "outfile.out         - file for clustering output\n",
    "1    1              - save all reals? recode clusters? (0=No, 1=Yes)\n",
    "1                   - append output to input file? (0=No, 1=Yes)\n",
    "1                   - number of parallel processes\n",
    "\n",
    "START OF DSS:       # dual-space-search settings\n",
    "25                  - number of nearest neighbors\n",
    "10                  - number of neighbors taken at spatial search\n",
    "0  0  0             - search anisotropy/ ang1, ang2, ang3\n",
    "500 500 500         - range1, range2, range3\n",
    "\n",
    "START OF ENS:       # ensemble settings\n",
    "512671              - random seed\n",
    "100                 - number of clusterings to generate\n",
    "4  6                - final nclus, target nclus\n",
    "0.001 0.999         - min and max proportion in found clustering\n",
    "spec                - final consensus method, `spec(tral)` or `hier(archical)`\n"
   ]
  },
  {
   "cell_type": "code",
   "execution_count": null,
   "metadata": {},
   "outputs": [],
   "source": []
  },
  {
   "cell_type": "code",
   "execution_count": null,
   "metadata": {},
   "outputs": [],
   "source": []
  }
 ],
 "metadata": {
  "kernelspec": {
   "display_name": "Python 3",
   "language": "python",
   "name": "python3"
  },
  "language_info": {
   "codemirror_mode": {
    "name": "ipython",
    "version": 3
   },
   "file_extension": ".py",
   "mimetype": "text/x-python",
   "name": "python",
   "nbconvert_exporter": "python",
   "pygments_lexer": "ipython3",
   "version": "3.6.4"
  }
 },
 "nbformat": 4,
 "nbformat_minor": 2
}
